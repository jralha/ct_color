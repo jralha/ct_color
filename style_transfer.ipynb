{
 "nbformat": 4,
 "nbformat_minor": 2,
 "metadata": {
  "language_info": {
   "name": "python",
   "codemirror_mode": {
    "name": "ipython",
    "version": 3
   }
  },
  "orig_nbformat": 2,
  "file_extension": ".py",
  "mimetype": "text/x-python",
  "name": "python",
  "npconvert_exporter": "python",
  "pygments_lexer": "ipython3",
  "version": 3
 },
 "cells": [
  {
   "cell_type": "code",
   "execution_count": 1,
   "metadata": {},
   "outputs": [],
   "source": [
    "import tensorflow as tf\n",
    "from tensorflow.keras.applications.vgg19 import preprocess_input\n",
    "from tensorflow.keras.models import Model\n",
    "import matplotlib.pyplot as plt\n",
    "import numpy as np\n",
    "np.random.seed(7)\n",
    "import cv2"
   ]
  },
  {
   "cell_type": "code",
   "execution_count": 2,
   "metadata": {},
   "outputs": [],
   "source": [
    "def mini_model(layer_names, model):\n",
    "\n",
    "  outputs = [model.get_layer(name).output for name in layer_names]\n",
    "\n",
    "  model = Model([vgg.input], outputs)\n",
    "  return model\n",
    "\n",
    "def gram_matrix(tensor):\n",
    "  temp = tensor\n",
    "  temp = tf.squeeze(temp)\n",
    "  fun = tf.reshape(temp, [temp.shape[2], temp.shape[0]*temp.shape[1]])\n",
    "  result = tf.matmul(temp, temp, transpose_b=True)\n",
    "  gram = tf.expand_dims(result, axis=0)\n",
    "\n",
    "class Custom_Style_Model(tf.keras.models.Model):\n",
    "  def __init__(self, style_layers, content_layers):\n",
    "    super(Custom_Style_Model, self).__init__()\n",
    "    self.vgg =  mini_model(style_layers + content_layers, vgg)\n",
    "    self.style_layers = style_layers\n",
    "    self.content_layers = content_layers\n",
    "    self.num_style_layers = len(style_layers)\n",
    "    self.vgg.trainable = False\n",
    "\n",
    "  def call(self, inputs):\n",
    "    # Scale back the pixel values\n",
    "    inputs = inputs*255.0\n",
    "    # Preprocess them with respect to VGG19 stats\n",
    "    preprocessed_input = preprocess_input(inputs)\n",
    "    # Pass through the mini network\n",
    "    outputs = self.vgg(preprocessed_input)\n",
    "    # Segregate the style and content representations\n",
    "    style_outputs, content_outputs = (outputs[:self.num_style_layers],\n",
    "                                      outputs[self.num_style_layers:])\n",
    "\n",
    "    # Calculate the gram matrix for each layer\n",
    "    style_outputs = [gram_matrix(style_output)\n",
    "                     for style_output in style_outputs]\n",
    "\n",
    "    # Assign the content representation and gram matrix in\n",
    "    # a layer by layer fashion in dicts\n",
    "    content_dict = {content_name:value\n",
    "                    for content_name, value\n",
    "                    in zip(self.content_layers, content_outputs)}\n",
    "\n",
    "    style_dict = {style_name:value\n",
    "                  for style_name, value\n",
    "                  in zip(self.style_layers, style_outputs)}\n",
    "\n",
    "    return {'content':content_dict, 'style':style_dict}\n",
    "\n",
    "def total_loss(outputs):\n",
    "    style_outputs = outputs['style']\n",
    "    content_outputs = outputs['content']\n",
    "    style_loss = tf.add_n([style_weights[name]*tf.reduce_mean((style_outputs[name]-style_targets[name])**2)\n",
    "                           for name in style_outputs.keys()])\n",
    "    # Normalize\n",
    "    style_loss *= style_weight / num_style_layers\n",
    "\n",
    "    content_loss = tf.add_n([tf.reduce_mean((content_outputs[name]-content_targets[name])**2)\n",
    "                             for name in content_outputs.keys()])\n",
    "    # Normalize\n",
    "    content_loss *= content_weight / num_content_layers\n",
    "    loss = style_loss + content_loss\n",
    "    return loss"
   ]
  },
  {
   "cell_type": "code",
   "execution_count": 12,
   "metadata": {},
   "outputs": [],
   "source": [
    "content = cv2.imread('ct_color\\dados0\\Tomografia_Cx6_T2.PNG').astype(float)\n",
    "style = cv2.imread('ct_color\\dados0\\caixa6_T2_invertido.png').astype(float)\n",
    "content = content.reshape(1,content.shape[0],content.shape[1],content.shape[2])\n",
    "style = style.reshape(1,style.shape[0],style.shape[1],style.shape[2])"
   ]
  },
  {
   "cell_type": "code",
   "execution_count": 5,
   "metadata": {},
   "outputs": [],
   "source": [
    "vgg = tf.keras.applications.VGG19(include_top=False, weights='imagenet')\n",
    "vgg.trainable = False"
   ]
  },
  {
   "cell_type": "code",
   "execution_count": 6,
   "metadata": {},
   "outputs": [],
   "source": [
    "# Content layer\n",
    "content_layers = ['block4_conv2']\n",
    "\n",
    "# Style layer\n",
    "style_layers = ['block1_conv1',\n",
    "                'block2_conv1',\n",
    "                'block3_conv1',\n",
    "                'block4_conv1',\n",
    "                'block5_conv1']\n",
    "\n",
    "\n",
    "num_content_layers = len(content_layers)\n",
    "num_style_layers = len(style_layers)"
   ]
  },
  {
   "cell_type": "code",
   "execution_count": 13,
   "metadata": {},
   "outputs": [
    {
     "name": "stdout",
     "output_type": "stream",
     "text": "WARNING:tensorflow:Layer custom__style__model_1 is casting an input tensor from dtype float64 to the layer's dtype of float32, which is new behavior in TensorFlow 2.  The layer has dtype float32 because it's dtype defaults to floatx.\n\nIf you intended to run this layer in float32, you can safely ignore this warning. If in doubt, this warning is likely only an issue if you are porting a TensorFlow 1.X model to TensorFlow 2.\n\nTo change all layers to have dtype float64 by default, call `tf.keras.backend.set_floatx('float64')`. To change just this layer, pass dtype='float64' to the layer constructor. If you are the author of this layer, you can disable autocasting by passing autocast=False to the base Layer constructor.\n\n"
    }
   ],
   "source": [
    "extractor = Custom_Style_Model(style_layers, content_layers)\n",
    "style_targets = extractor(style)['style']\n",
    "content_targets = extractor(content)['content']"
   ]
  },
  {
   "cell_type": "code",
   "execution_count": null,
   "metadata": {},
   "outputs": [],
   "source": [
    "opt = tf.optimizers.Adam(learning_rate=0.02)\n",
    "style_weight=100\n",
    "content_weight=10\n",
    "style_weights = {'block1_conv1': 1.,\n",
    "                 'block2_conv1': 0.8,\n",
    "                 'block3_conv1': 0.5,\n",
    "                 'block4_conv1': 0.3,\n",
    "                 'block5_conv1': 0.1}"
   ]
  },
  {
   "cell_type": "code",
   "execution_count": null,
   "metadata": {},
   "outputs": [],
   "source": [
    "@tf.function()\n",
    "def train_step(image):\n",
    "  with tf.GradientTape() as tape:\n",
    "    # Extract the features\n",
    "    outputs = extractor(image)\n",
    "    # Calculate the loss\n",
    "    loss = total_loss(outputs)\n",
    "  # Determine the gradients of the loss function w.r.t the image pixels\n",
    "  grad = tape.gradient(loss, image)\n",
    "  # Update the pixels\n",
    "  opt.apply_gradients([(grad, image)])\n",
    "  # Clip the pixel values that fall outside the range of [0,1]\n",
    "  image.assign(tf.clip_by_value(image, clip_value_min=0.0, clip_value_max=1.0))"
   ]
  },
  {
   "cell_type": "code",
   "execution_count": null,
   "metadata": {},
   "outputs": [],
   "source": [
    "target_image = tf.Variable(content)"
   ]
  },
  {
   "cell_type": "code",
   "execution_count": null,
   "metadata": {},
   "outputs": [],
   "source": [
    "epochs = 10\n",
    "steps_per_epoch = 100\n",
    "\n",
    "step = 0\n",
    "for n in range(epochs):\n",
    "  for m in range(steps_per_epoch):\n",
    "    step += 1\n",
    "    train_step(target_image)\n",
    "  plt.imshow(np.squeeze(target_image.read_value(), 0))\n",
    "  plt.title(\"Train step: {}\".format(step))\n",
    "  plt.show()"
   ]
  }
 ]
}